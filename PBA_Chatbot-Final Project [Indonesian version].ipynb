{
 "cells": [
  {
   "cell_type": "code",
   "execution_count": null,
   "id": "2f6c53ca",
   "metadata": {},
   "outputs": [],
   "source": [
    "# Import Library\n",
    "import logging\n",
    "import openai\n",
    "from telegram.ext import Updater, CommandHandler, MessageHandler, Filters\n",
    "from telegram import Bot\n",
    "import random\n",
    "from spellchecker import SpellChecker"
   ]
  },
  {
   "cell_type": "code",
   "execution_count": null,
   "id": "f205d335",
   "metadata": {},
   "outputs": [],
   "source": [
    "spell = SpellChecker()"
   ]
  },
  {
   "cell_type": "code",
   "execution_count": null,
   "id": "63128d74",
   "metadata": {},
   "outputs": [],
   "source": [
    "TOKEN_bot = '6200850293:AAHGb8yb9rXzp3HMlT_NALpqD6oA8'\n",
    "openai.api_key = 'sk-X9zzdSlfxL8yT3BlbkFJ70pPdp8HNg9iNwIE'\n",
    "\n",
    "bot = Bot(token=TOKEN)\n",
    "updater = Updater(bot=bot, use_context=True)"
   ]
  },
  {
   "cell_type": "code",
   "execution_count": null,
   "id": "11ba7007",
   "metadata": {},
   "outputs": [],
   "source": [
    "# Fungsi yang akan dieksekusi saat command /start diterima\n",
    "def start(update, context):\n",
    "    context.bot.send_message(chat_id=update.effective_chat.id, text=\"Halo! Saya adalah Chatbot resep masakan Indonesia.\")"
   ]
  },
  {
   "cell_type": "code",
   "execution_count": null,
   "id": "98f322f2",
   "metadata": {},
   "outputs": [],
   "source": [
    "# Fungsi yang akan dieksekusi saat user_input memiliki penyakit didalam list\n",
    "def has_medical_condition(user_input):\n",
    "    # Daftar penyakit yang tidak boleh mengonsumsi makanan tertentu\n",
    "    penyakit_terlarang = {\n",
    "        \"diabetes\": [\"gula\", \"kue\", \"es krim\"],\n",
    "        \"hipertensi\": [\"garam\", \"makanan digoreng\", \"daging olahan\"],\n",
    "        \"penyakit celiac\": [\"gluten\", \"gandum\", \"barley\"],\n",
    "        \"intoleransi laktosa\": [\"susu\", \"keju\", \"yogurt\"],\n",
    "        \"alergi kacang tanah\": [\"kacang tanah\", \"mentega kacang\", \"minyak kacang tanah\"],\n",
    "        \"alergi kacang berangan\": [\"kacang almond\", \"kacang mete\", \"kenari\", \"kacang\"],\n",
    "        \"alergi seafood\": [\"udang\", \"kepiting\", \"lobster\"],\n",
    "        \"alergi telur\": [\"telur\", \"mayones\", \"custard\"],\n",
    "        \"alergi kedelai\": [\"kedelai\", \"tahu\", \"saus kedelai\"],\n",
    "        \"alergi ikan\": [\"salmon\", \"tuna\", \"sarden\"],\n",
    "        \"alergi gandum\": [\"roti\", \"pasta\", \"kue\"],\n",
    "        \"penyakit jantung\": [\"daging merah\", \"mentega\", \"makanan digoreng\"],\n",
    "        \"penyakit ginjal\": [\"daging olahan\", \"minuman bersoda\", \"makanan tinggi natrium\"],\n",
    "        \"penyakit hati\": [\"alkohol\", \"makanan digoreng\", \"produk susu tinggi lemak\"],\n",
    "        \"asma\": [\"produk susu\", \"telur\", \"pengawet\"],\n",
    "        \"asam urat\": [\"daging organ\", \"seafood\", \"sirup jagung tinggi fruktosa\"]\n",
    "    }\n",
    "\n",
    "    # Mengubah teks masukan menjadi lowercase untuk pengecekan yang tidak case-sensitive\n",
    "    user_input = user_input.lower()\n",
    "\n",
    "    # Melakukan pengecekan riwayat penyakit\n",
    "    for penyakit, makanan_terlarang in penyakit_terlarang.items():\n",
    "        # Jika penyakit ditemukan dalam teks masukan\n",
    "        if penyakit in user_input:\n",
    "            # Mencari makanan terlarang yang terkait dengan penyakit tersebut\n",
    "            makanan_terlarang = \", \".join(makanan_terlarang)\n",
    "            response = f\"Maaf, Anda memiliki riwayat penyakit {penyakit}. Anda tidak diperbolehkan mengonsumsi makanan seperti {makanan_terlarang}.\"\n",
    "            return response\n",
    "\n",
    "    # Jika tidak ada riwayat penyakit yang ditemukan\n",
    "    return None"
   ]
  },
  {
   "cell_type": "code",
   "execution_count": null,
   "id": "dfcf5553",
   "metadata": {},
   "outputs": [],
   "source": [
    "# Fungsi yang akan dieksekusi saat menerima pesan teks\n",
    "def reply_message(update, context):\n",
    "    \n",
    "    user_input = update.message.text.lower()\n",
    "    \n",
    "    # Memeriksa riwayat penyakit\n",
    "    if has_medical_condition(user_input):\n",
    "        response = \"Maaf, Anda memiliki riwayat penyakit tertentu yang tidak diperbolehkan mengonsumsi makanan ini.\"\n",
    "\n",
    "    # Logika untuk merespons pertanyaan atau perintah khusus dari pengguna\n",
    "    if 'hai' in user_input or 'halo' in user_input:\n",
    "        response = 'Halo! Ada yang bisa saya bantu?'\n",
    "    elif 'rekomendasikan resep' in user_input or 'resep rekomendasi' in user_input:\n",
    "        response = generate_recipe()\n",
    "    elif 'terimakasih' in user_input or 'makasih' in user_input:\n",
    "        response = 'Sama-sama! Jika ada yang perlu ditanyakan, silakan.'\n",
    "    else:\n",
    "        # Mengirim permintaan ke OpenAI API untuk mendapatkan respons\n",
    "        response = openai.Completion.create(\n",
    "            engine='text-davinci-003',\n",
    "            prompt=user_input,\n",
    "            temperature=0.7,\n",
    "            max_tokens=900,\n",
    "            n=1,\n",
    "            stop=None,\n",
    "            frequency_penalty=0,\n",
    "            presence_penalty=0\n",
    "        ).choices[0].text.strip()\n",
    "\n",
    "    # Mengirim respons dari chatbot ke pengguna\n",
    "    context.bot.send_message(chat_id=update.effective_chat.id, text=response)   "
   ]
  },
  {
   "cell_type": "code",
   "execution_count": null,
   "id": "b87b7885",
   "metadata": {},
   "outputs": [],
   "source": [
    "# Fungsi yang akan dieksekusi saat menerima input_user meminta rekomendasi resep\n",
    "def generate_recipe():\n",
    "    # Logika untuk menghasilkan rekomendasi resep masakan Indonesia\n",
    "    recipes = [\n",
    "        'Nasi Goreng',\n",
    "        'Rendang',\n",
    "        'Sate Ayam',\n",
    "        'Gado-Gado',\n",
    "        'Soto Ayam',\n",
    "        'Nasi Rawon',\n",
    "        'Ayam Bakar',\n",
    "        'Pecel Lele',\n",
    "        'Sop Buntut',\n",
    "        'Sambal Goreng Ati'\n",
    "    ]\n",
    "    recipe = random.choice(recipes)\n",
    "    response = f\"Berikut adalah rekomendasi resep masakan: {recipe}\"\n",
    "    return response"
   ]
  },
  {
   "cell_type": "code",
   "execution_count": null,
   "id": "176da010",
   "metadata": {},
   "outputs": [],
   "source": [
    "def main():\n",
    "    # Inisialisasi updater\n",
    "    updater = Updater(token=TOKEN, use_context=True)\n",
    "\n",
    "    # Get the dispatcher to register handlers\n",
    "    dispatcher = updater.dispatcher\n",
    "\n",
    "    # Register handler untuk command /start\n",
    "    start_handler = CommandHandler('start', start)\n",
    "    dispatcher.add_handler(start_handler)\n",
    "\n",
    "    # Register handler untuk pesan teks\n",
    "    message_handler = MessageHandler(Filters.text & (~Filters.command), reply_message)\n",
    "    dispatcher.add_handler(message_handler)\n",
    "\n",
    "    # Jalankan bot\n",
    "    updater.start_polling()\n",
    "    updater.idle()"
   ]
  },
  {
   "cell_type": "code",
   "execution_count": null,
   "id": "911ab67c",
   "metadata": {},
   "outputs": [],
   "source": [
    "if __name__ == '__main__':\n",
    "    logging.basicConfig(format='%(asctime)s - %(name)s - %(levelname)s - %(message)s', level=logging.INFO)\n",
    "    main()"
   ]
  }
 ],
 "metadata": {
  "kernelspec": {
   "display_name": "Python 3 (ipykernel)",
   "language": "python",
   "name": "python3"
  },
  "language_info": {
   "codemirror_mode": {
    "name": "ipython",
    "version": 3
   },
   "file_extension": ".py",
   "mimetype": "text/x-python",
   "name": "python",
   "nbconvert_exporter": "python",
   "pygments_lexer": "ipython3",
   "version": "3.9.4"
  },
  "toc": {
   "base_numbering": 1,
   "nav_menu": {},
   "number_sections": true,
   "sideBar": true,
   "skip_h1_title": false,
   "title_cell": "Table of Contents",
   "title_sidebar": "Contents",
   "toc_cell": false,
   "toc_position": {},
   "toc_section_display": true,
   "toc_window_display": false
  }
 },
 "nbformat": 4,
 "nbformat_minor": 5
}
