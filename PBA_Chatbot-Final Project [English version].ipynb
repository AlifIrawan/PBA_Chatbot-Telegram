{
 "cells": [
  {
   "cell_type": "code",
   "execution_count": null,
   "id": "5575677d",
   "metadata": {},
   "outputs": [],
   "source": [
    "import logging\n",
    "import openai\n",
    "from telegram.ext import Updater, CommandHandler, MessageHandler, Filters\n",
    "from telegram import Bot\n",
    "import random\n",
    "from spellchecker import SpellChecker"
   ]
  },
  {
   "cell_type": "code",
   "execution_count": null,
   "id": "bf42787f",
   "metadata": {},
   "outputs": [],
   "source": [
    "spell = SpellChecker()"
   ]
  },
  {
   "cell_type": "code",
   "execution_count": null,
   "id": "74193467",
   "metadata": {},
   "outputs": [],
   "source": [
    "TOKEN_bot = '6200850293:AAHGb8yb9rXzp3HMlT_NALpqD6oA8'\n",
    "openai.api_key = 'sk-X9zzdSlfxL8yT3BlbkFJ70pPdp8HNg9iNwIE'\n",
    "\n",
    "bot = Bot(token=TOKEN)\n",
    "updater = Updater(bot=bot, use_context=True)"
   ]
  },
  {
   "cell_type": "code",
   "execution_count": null,
   "id": "a872bdac",
   "metadata": {},
   "outputs": [],
   "source": [
    "# Fungsi yang akan dieksekusi saat command /start diterima\n",
    "def start(update, context):\n",
    "    context.bot.send_message(chat_id=update.effective_chat.id, text=\"Hello! I am an Indonesian Recipe Chatbot.\")"
   ]
  },
  {
   "cell_type": "code",
   "execution_count": null,
   "id": "54963b38",
   "metadata": {},
   "outputs": [],
   "source": [
    "# Fungsi yang akan dieksekusi saat user_input memiliki penyakit didalam list\n",
    "def has_medical_condition(user_input):\n",
    "    # Daftar penyakit yang tidak boleh mengonsumsi makanan tertentu\n",
    "    forbidden_diseases = {\n",
    "        \"diabetes\": [\"sugar\", \"cake\", \"ice cream\"],\n",
    "        \"hypertension\": [\"salt\", \"fried food\", \"processed meat\"],\n",
    "        \"celiac disease\": [\"gluten\", \"wheat\", \"barley\"],\n",
    "        \"lactose intolerance\": [\"milk\", \"cheese\", \"yogurt\"],\n",
    "        \"peanut allergy\": [\"peanuts\", \"peanut butter\", \"peanut oil\"],\n",
    "        \"tree nut allergy\": [\"almonds\", \"cashews\", \"walnuts\"],\n",
    "        \"shellfish allergy\": [\"shrimp\", \"crab\", \"lobster\"],\n",
    "        \"egg allergy\": [\"eggs\", \"mayonnaise\", \"custard\"],\n",
    "        \"soy allergy\": [\"soybeans\", \"tofu\", \"soy sauce\"],\n",
    "        \"fish allergy\": [\"salmon\", \"tuna\", \"sardines\"],\n",
    "        \"wheat allergy\": [\"bread\", \"pasta\", \"cookies\"],\n",
    "        \"celiac disease\": [\"gluten\", \"wheat\", \"barley\"],\n",
    "        \"heart disease\": [\"red meat\", \"butter\", \"deep-fried food\"],\n",
    "        \"kidney disease\": [\"processed meats\", \"soda\", \"high-sodium foods\"],\n",
    "        \"liver disease\": [\"alcohol\", \"fried food\", \"high-fat dairy\"],\n",
    "        \"asthma\": [\"dairy products\", \"eggs\", \"preservatives\"],\n",
    "        \"celiac disease\": [\"gluten\", \"wheat\", \"barley\"],\n",
    "        \"gout\": [\"organ meats\", \"shellfish\", \"high-fructose corn syrup\"],\n",
    "    }\n",
    "\n",
    "    # Mengubah teks masukan menjadi lowercase untuk pengecekan yang tidak case-sensitive\n",
    "    user_input = user_input.lower()\n",
    "\n",
    "    # Melakukan pengecekan riwayat penyakit\n",
    "    for disease, forbidden_foods in forbidden_diseases.items():\n",
    "        # Jika penyakit ditemukan dalam teks masukan\n",
    "        if disease in user_input:\n",
    "            # Mencari makanan terlarang yang terkait dengan penyakit tersebut\n",
    "            forbidden_food_list = \", \".join(forbidden_foods)\n",
    "            response = f\"I'm sorry, you have a history of {disease}. You are not allowed to consume foods such as {forbidden_food_list}.\"\n",
    "            return response\n",
    "\n",
    "    # Jika tidak ada riwayat penyakit yang ditemukan\n",
    "    return None"
   ]
  },
  {
   "cell_type": "code",
   "execution_count": null,
   "id": "22b8f5f1",
   "metadata": {},
   "outputs": [],
   "source": [
    "# Fungsi yang akan dieksekusi saat menerima pesan teks\n",
    "def reply_message(update, context):\n",
    "    \n",
    "    user_input = update.message.text.lower()\n",
    "    \n",
    "    # Memeriksa riwayat penyakit\n",
    "    if has_medical_condition(user_input):\n",
    "        response = \"I'm sorry, you have a history of certain medical conditions that are not allowed to consume this food.\"\n",
    "    else:\n",
    "        # Memperbaiki ejaan dalam teks masukan\n",
    "        corrected_text = []\n",
    "        words = user_input.split()\n",
    "        for word in words:\n",
    "            corrected_word = spell.correction(word)\n",
    "            corrected_text.append(corrected_word)\n",
    "\n",
    "        corrected_input = ' '.join(corrected_text)\n",
    "\n",
    "    # Logika untuk merespons pertanyaan atau perintah khusus dari pengguna\n",
    "    if 'hi' in user_input or 'halo' in user_input or 'hello' in user_input:\n",
    "        response = 'Halo! how can i help you?'\n",
    "    elif 'thank you' in user_input or 'Thank you' in user_input:\n",
    "        response = \"You're welcome! If you have any questions, feel free to ask me.\"\n",
    "    else:\n",
    "        # Mengirim permintaan ke OpenAI API untuk mendapatkan respons\n",
    "        response = openai.Completion.create(\n",
    "            engine='text-davinci-003',\n",
    "            prompt=corrected_input,\n",
    "            temperature=0.7,\n",
    "            max_tokens=1000,\n",
    "            n=1,\n",
    "            stop=None,\n",
    "            frequency_penalty=0,\n",
    "            presence_penalty=0\n",
    "        ).choices[0].text.strip()\n",
    "\n",
    "    # Mengirim respons dari chatbot ke pengguna\n",
    "    context.bot.send_message(chat_id=update.effective_chat.id, text=response)   "
   ]
  },
  {
   "cell_type": "code",
   "execution_count": null,
   "id": "5d67a427",
   "metadata": {},
   "outputs": [],
   "source": [
    "def main():\n",
    "    # Inisialisasi updater\n",
    "    updater = Updater(token=TOKEN, use_context=True)\n",
    "\n",
    "    # Get the dispatcher to register handlers\n",
    "    dispatcher = updater.dispatcher\n",
    "\n",
    "    # Register handler untuk command /start\n",
    "    start_handler = CommandHandler('start', start)\n",
    "    dispatcher.add_handler(start_handler)\n",
    "\n",
    "    # Register handler untuk pesan teks\n",
    "    message_handler = MessageHandler(Filters.text & (~Filters.command), reply_message)\n",
    "    dispatcher.add_handler(message_handler)\n",
    "\n",
    "    # Jalankan bot\n",
    "    updater.start_polling()\n",
    "    updater.idle()"
   ]
  },
  {
   "cell_type": "code",
   "execution_count": null,
   "id": "3b9bff01",
   "metadata": {},
   "outputs": [],
   "source": [
    "if __name__ == '__main__':\n",
    "    logging.basicConfig(format='%(asctime)s - %(name)s - %(levelname)s - %(message)s', level=logging.INFO)\n",
    "    main()"
   ]
  }
 ],
 "metadata": {
  "kernelspec": {
   "display_name": "Python 3 (ipykernel)",
   "language": "python",
   "name": "python3"
  },
  "language_info": {
   "codemirror_mode": {
    "name": "ipython",
    "version": 3
   },
   "file_extension": ".py",
   "mimetype": "text/x-python",
   "name": "python",
   "nbconvert_exporter": "python",
   "pygments_lexer": "ipython3",
   "version": "3.9.4"
  },
  "toc": {
   "base_numbering": 1,
   "nav_menu": {},
   "number_sections": true,
   "sideBar": true,
   "skip_h1_title": false,
   "title_cell": "Table of Contents",
   "title_sidebar": "Contents",
   "toc_cell": false,
   "toc_position": {},
   "toc_section_display": true,
   "toc_window_display": false
  }
 },
 "nbformat": 4,
 "nbformat_minor": 5
}
